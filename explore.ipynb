{
 "cells": [
  {
   "cell_type": "code",
   "execution_count": 24,
   "id": "fe883fc8",
   "metadata": {},
   "outputs": [],
   "source": [
    "from selenium import webdriver\n",
    "from selenium.webdriver.common.by import By\n",
    "from selenium.webdriver.chrome.options import Options\n",
    "import time\n",
    "import os\n",
    "from dotenv import load_dotenv"
   ]
  },
  {
   "cell_type": "code",
   "execution_count": 25,
   "id": "edb7b1a5",
   "metadata": {},
   "outputs": [
    {
     "name": "stdout",
     "output_type": "stream",
     "text": [
      "Email: sergioroquehernandez93@gmail.com\n",
      "Password cargada: *************\n"
     ]
    }
   ],
   "source": [
    "# Cargar archivo .env\n",
    "load_dotenv()\n",
    "\n",
    "# Obtener las credenciales desde las variables de entorno\n",
    "EMAIL = os.getenv(\"INFOJOBS_EMAIL\")\n",
    "PASSWORD = os.getenv(\"INFOJOBS_PASSWORD\")\n",
    "\n",
    "# Verificación rápida (opcional, puedes comentar estas líneas)\n",
    "print(\"Email:\", EMAIL)\n",
    "print(\"Password cargada:\", \"*\" * len(PASSWORD) if PASSWORD else \"NO CARGADA\")"
   ]
  },
  {
   "cell_type": "code",
   "execution_count": 26,
   "id": "9164edfc",
   "metadata": {},
   "outputs": [],
   "source": [
    "# Configurar opciones de Chrome\n",
    "options = Options()\n",
    "options.add_argument(\"--start-maximized\")  # Abre ventana maximizada\n",
    "# options.add_argument(\"--headless\")  # Si quieres hacerlo invisible (desactivado por ahora)\n",
    "\n",
    "# Iniciar navegador\n",
    "driver = webdriver.Chrome(options=options)\n",
    "\n",
    "# Ir a la página de login de InfoJobs\n",
    "driver.get(\"https://www.infojobs.net/candidate/candidate-login/candidate-login.xhtml\")\n",
    "\n",
    "# Esperar a que cargue la página (puedes ajustar el tiempo si va muy rápido o lento)\n",
    "time.sleep(2)"
   ]
  },
  {
   "cell_type": "code",
   "execution_count": 27,
   "id": "71c54e06",
   "metadata": {},
   "outputs": [
    {
     "name": "stdout",
     "output_type": "stream",
     "text": [
      "✅ Cookies aceptadas\n"
     ]
    }
   ],
   "source": [
    "from selenium.common.exceptions import NoSuchElementException\n",
    "\n",
    "# Aceptar cookies si aparece el botón correcto\n",
    "try:\n",
    "    cookies_btn = driver.find_element(By.ID, \"didomi-notice-agree-button\")\n",
    "    cookies_btn.click()\n",
    "    print(\"✅ Cookies aceptadas\")\n",
    "except NoSuchElementException:\n",
    "    print(\"⚠️ Botón de cookies no encontrado (quizás ya aceptadas)\")\n",
    "\n",
    "time.sleep(1)"
   ]
  },
  {
   "cell_type": "code",
   "execution_count": 28,
   "id": "4b9b1dda",
   "metadata": {},
   "outputs": [],
   "source": [
    "# Rellenar campos con los ID correctos\n",
    "email_input = driver.find_element(By.ID, \"email\")\n",
    "email_input.send_keys(EMAIL)\n",
    "\n",
    "password_input = driver.find_element(By.ID, \"id-password\")\n",
    "password_input.send_keys(PASSWORD)\n",
    "\n",
    "# Hacer clic en el botón de login\n",
    "login_button = driver.find_element(By.CSS_SELECTOR, 'button[type=\"submit\"]')\n",
    "login_button.click()\n",
    "\n",
    "# Espera para que cargue la siguiente pantalla (puedes ajustar)\n",
    "time.sleep(4)"
   ]
  }
 ],
 "metadata": {
  "kernelspec": {
   "display_name": "venv",
   "language": "python",
   "name": "python3"
  },
  "language_info": {
   "codemirror_mode": {
    "name": "ipython",
    "version": 3
   },
   "file_extension": ".py",
   "mimetype": "text/x-python",
   "name": "python",
   "nbconvert_exporter": "python",
   "pygments_lexer": "ipython3",
   "version": "3.12.6"
  }
 },
 "nbformat": 4,
 "nbformat_minor": 5
}
